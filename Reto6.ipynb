{
  "nbformat": 4,
  "nbformat_minor": 0,
  "metadata": {
    "colab": {
      "provenance": [],
      "authorship_tag": "ABX9TyPysna1tsipaU2iVhX8aPT7",
      "include_colab_link": true
    },
    "kernelspec": {
      "name": "python3",
      "display_name": "Python 3"
    },
    "language_info": {
      "name": "python"
    }
  },
  "cells": [
    {
      "cell_type": "markdown",
      "metadata": {
        "id": "view-in-github",
        "colab_type": "text"
      },
      "source": [
        "<a href=\"https://colab.research.google.com/github/Steffyf317/reto-6-funciones/blob/main/Reto6.ipynb\" target=\"_parent\"><img src=\"https://colab.research.google.com/assets/colab-badge.svg\" alt=\"Open In Colab\"/></a>"
      ]
    },
    {
      "cell_type": "code",
      "source": [
        "import math\n",
        "\n",
        "r1:int = 10 #radio de la esfera\n",
        "r2:int = 5 #radio del cono\n",
        "h: int = 7 #Altura del cono\n",
        "a: float = (h**2+r2**2)**(0.5)\n",
        "\n",
        "def calcular_area_y_volumen_figura (r1:int, r2:int, h: int) -> float:\n",
        "  area_figura = 4*math.pi*r1**2 + math.pi*r2*(r2+a) #suma de las areas de la esfera y del cono\n",
        "  volumen_figura = (4/3)*math.pi*r1**3 + (1/3)*math.pi*r2**2*h #Suma de los volúmenes de la esfera y el cono respectivamente\n",
        "  return area_figura , volumen_figura\n",
        "\n",
        "if __name__ == \"__main__\":\n",
        "  area_y_volumen_calculado = calcular_area_y_volumen_figura (r1, r2, h)\n",
        "  print(\"El área y el volumen de la figura es respectivamente \" + str(area_y_volumen_calculado))"
      ],
      "metadata": {
        "colab": {
          "base_uri": "https://localhost:8080/"
        },
        "id": "lO_wI2cfY_qB",
        "outputId": "7d22979c-e703-4f85-880d-ce62b8c22433"
      },
      "execution_count": 25,
      "outputs": [
        {
          "output_type": "stream",
          "name": "stdout",
          "text": [
            "El área y el volumen de la figura es respectivamente (1470.301887089317, 4372.049776245795)\n"
          ]
        }
      ]
    },
    {
      "cell_type": "code",
      "execution_count": null,
      "metadata": {
        "id": "SwWw3DSXhNL4",
        "colab": {
          "base_uri": "https://localhost:8080/"
        },
        "outputId": "d7d02fae-d92b-4640-d5ea-26591efb128c"
      },
      "outputs": [
        {
          "output_type": "stream",
          "name": "stdout",
          "text": [
            "Ingrese el radio de la esfera 10\n",
            "Ingrese el radio de la base del cono 5\n",
            "Ingrese la altura del cono 7\n",
            "El área de la figura es 1470.301887089317 y el volumen es 4372.049776245795\n"
          ]
        }
      ],
      "source": [
        "#area y volumen de la figura compuesta por un cono y una esfera\n",
        "import math\n",
        "\n",
        "def calcular_area_figura (r1:int, r2:int, h: int) -> float:\n",
        "  area_figura = 4*math.pi*r1**2 + math.pi*r2*(r2+a) #suma de las areas de la esfera y del cono\n",
        "  return area_figura\n",
        "\n",
        "def calcular_volumen_figura(r1:int, r2:int, h: int) -> float:\n",
        "  volumen_figura = (4/3)*math.pi*r1**3 + (1/3)*math.pi*r2**2*h #Suma de los volúmenes de la esfera y el cono respectivamente\n",
        "  return volumen_figura\n",
        "\n",
        "if __name__ == \"__main__\":\n",
        "  r1:int = int(input(\"Ingrese el radio de la esfera \"))\n",
        "  r2:int = int(input(\"Ingrese el radio de la base del cono \"))\n",
        "  h: int = int(input(\"Ingrese la altura del cono \"))\n",
        "  a: float = (h**2+r2**2)**(0.5)\n",
        "  area_calculada = calcular_area_figura (r1, r2, h)\n",
        "  volumen_calculado = calcular_volumen_figura(r1, r2, h)\n",
        "  print(\"El área de la figura es \" + str(area_calculada) + \" y el volumen es \" +str(volumen_calculado))\n"
      ]
    },
    {
      "cell_type": "code",
      "source": [
        "# función matemática para calcular el área y el perimetro carrito\n",
        "import math\n",
        "\n",
        "r:int = 2 #radio de los círculos\n",
        "a:int = 5 #altura del rectángulo\n",
        "b:int = 9 #base del rectángulo\n",
        "\n",
        "def calcular_area_y_perimetro (r:int, a:int, b: int) -> float:\n",
        "  area_figura = a*b + 2*(math.pi*r**2) #suma de las áreas\n",
        "  perimetro_figura = 2*a+2*b + 2*(2*math.pi*r) #suma de los perimetros\n",
        "  return perimetro_figura , area_figura\n",
        "if __name__ == \"__main__\":\n",
        "  area_y_perimetro_calculados = calcular_area_y_perimetro (r,a,b)\n",
        "  print(area_y_perimetro_calculados)"
      ],
      "metadata": {
        "colab": {
          "base_uri": "https://localhost:8080/"
        },
        "id": "u5qKEO1EifO6",
        "outputId": "ae6bff62-7c4b-45b9-c115-7f5fe752ab1a"
      },
      "execution_count": null,
      "outputs": [
        {
          "output_type": "stream",
          "name": "stdout",
          "text": [
            "(53.132741228718345, 70.13274122871834)\n"
          ]
        }
      ]
    },
    {
      "cell_type": "code",
      "source": [
        "# función matemática para calcular el área y el perimetro carrito\n",
        "import math\n",
        "\n",
        "def calcular_area (r:int, a:int, b: int) -> float:\n",
        "  area_figura = a*b + 2*(math.pi*r**2) #suma de las áreas\n",
        "  return area_figura\n",
        "\n",
        "def calcular_perimetro (r:int, a:int, b: int) -> float:\n",
        "  perimetro_figura = 2*a+2*b + 2*(2*math.pi*r) #suma de los perimetros\n",
        "  return perimetro_figura\n",
        "\n",
        "if __name__ == \"__main__\":\n",
        "  r:int = int(input(\"Ingrese el radio de los círculos \")) #radio de los círculos\n",
        "  a:int = int(input(\"Ingrese la altura del rectángulo \")) #altura del rectángulo\n",
        "  b:int = int(input(\"Ingrese la base del rectángulo \")) #base del rectángulo\n",
        "  area_calculada = calcular_area(r,a,b)\n",
        "  perimetro_calculado = calcular_perimetro(r,a,b)\n",
        "  print(\"El perimetro de la figura es \" +str(perimetro_calculado)+ \" y el area es \" +str(area_calculada))"
      ],
      "metadata": {
        "colab": {
          "base_uri": "https://localhost:8080/"
        },
        "outputId": "e7a5a7bd-a277-4033-f6d6-f2191cf2dcac",
        "id": "xC7uudf8F53M"
      },
      "execution_count": null,
      "outputs": [
        {
          "output_type": "stream",
          "name": "stdout",
          "text": [
            "Ingrese el radio de los círculos 2\n",
            "Ingrese la altura del rectángulo 5\n",
            "Ingrese la base del rectángulo 8\n",
            "El perimetro de la figura es 51.132741228718345 y el area es 65.13274122871834\n"
          ]
        }
      ]
    },
    {
      "cell_type": "code",
      "source": [
        "# Diseñe una función que calcule la cantidad de carne de aves en kilos si se tienen N gallinas, M gallos y K pollitos cada uno pesando 6 kilos, 7 kilos y 1 kilo respectivamente.\n",
        "\n",
        "N:int = 50 #Cantidad de gallinas\n",
        "M:int = 40 # Cantidad de gallos\n",
        "K:int = 92 #Cantidad de pollitos\n",
        "peso_gallinas: int = 6 #kilos\n",
        "peso_gallos: int = 7 #kilos\n",
        "peso_pollitos: int = 1 #kilo\n",
        "\n",
        "def cantidad_carne_aves(N,M,K) -> int:\n",
        "  kilos_carne = N*peso_gallinas + M*peso_gallos + K*peso_pollitos\n",
        "  return kilos_carne\n",
        "\n",
        "if __name__ == \"__main__\":\n",
        "  kilos_aves_total = cantidad_carne_aves(N,M,K)\n",
        "  print(kilos_aves_total)\n"
      ],
      "metadata": {
        "colab": {
          "base_uri": "https://localhost:8080/"
        },
        "id": "AevElY6OHXBM",
        "outputId": "42895def-df8e-46af-d206-baf3616b81d7"
      },
      "execution_count": null,
      "outputs": [
        {
          "output_type": "stream",
          "name": "stdout",
          "text": [
            "672\n"
          ]
        }
      ]
    },
    {
      "cell_type": "code",
      "source": [
        "# Mi mamá me manda a comprar P panes a 300 cada uno, M bolsas de leche a 3300 cada una y H huevos a 350 cada uno. Hacer un programa que me diga las vueltas (o lo que quedo debiendo) cuando me da un billete de B pesos\n",
        "\n",
        "def calcular_precio_compra (P:int, M:int, H:int, B:int) -> int:\n",
        "  precio_compra = P*300 + M*3300 +H*350\n",
        "  if B == precio_compra:\n",
        "    print(\"No sobra nada ni se debe nada de dinero\")\n",
        "    return(0)\n",
        "  elif B < precio_compra:\n",
        "    deuda = abs(B-precio_compra)\n",
        "    print(\"La deuda es de \" +str(deuda)+ \" Pesos\")\n",
        "    return (deuda)\n",
        "  else:\n",
        "    vueltas = B-precio_compra\n",
        "    print(\"Las vueltas son \" +str(vueltas)+ \" Pesos\")\n",
        "    return(vueltas)\n",
        "\n",
        "if __name__ == \"__main__\":\n",
        "  P = int(input(\"Ingrese la cantidad de panes comprados \"))\n",
        "  M = int(input(\"Ingrese el número de bolsas de leche compradas \"))\n",
        "  H = int(input(\"Ingrese la cantidad de huevos comprados \"))\n",
        "  B = int(input(\"Ingrese la cifra del billete \"))\n",
        "  deuda_o_vueltas = calcular_precio_compra(P,M,H,B)"
      ],
      "metadata": {
        "colab": {
          "base_uri": "https://localhost:8080/"
        },
        "id": "0goEjug3KuF6",
        "outputId": "7671b2a4-e4c8-4d14-ee74-ae8067845e8e"
      },
      "execution_count": 27,
      "outputs": [
        {
          "output_type": "stream",
          "name": "stdout",
          "text": [
            "Ingrese la cantidad de panes comprados 1\n",
            "Ingrese el número de bolsas de leche compradas 2\n",
            "Ingrese la cantidad de huevos comprados 1\n",
            "Ingrese la cifra del billete 5000\n",
            "La deuda es de 2250 Pesos\n"
          ]
        }
      ]
    },
    {
      "cell_type": "code",
      "source": [
        "# programa que utilice una función para calcular el valor de un préstamo C usando interés compuesto del i por n meses.\n",
        "\n",
        "def calcular_valor_prestamo (C:int, i:float, n:int ) ->float:\n",
        "  capital_a_pagar = C*((1+i))**n #Formula del interes compuesto\n",
        "  return capital_a_pagar\n",
        "\n",
        "if __name__ == \"__main__\":\n",
        "  C = int(input(\"Ingrese el valor solicitado para préstamo \")) #Pesos\n",
        "  i = float(input(\"Ingrese el valor decimal de la tasa de interés del préstamo \"))\n",
        "  n = int(input(\"Ingrese la cantidad de meses para pagar el préstamo \"))\n",
        "  capital_final = calcular_valor_prestamo(C,i,n)\n",
        "  print(\"El valor del préstamo es de \" +str(capital_final)+ \" Pesos\")"
      ],
      "metadata": {
        "colab": {
          "base_uri": "https://localhost:8080/"
        },
        "id": "1k4DElsbT1xa",
        "outputId": "8a3077a7-5b4a-4d09-ba4f-ac3523b3a94d"
      },
      "execution_count": null,
      "outputs": [
        {
          "output_type": "stream",
          "name": "stdout",
          "text": [
            "Ingrese el valor solicitado para préstamo 1000000\n",
            "Ingrese el valor decimal de la tasa de interés del préstamo 0.1\n",
            "Ingrese la cantidad de meses para pagar el préstamo 8\n",
            "El valor del préstamo es de 2143588.8100000015 Pesos\n"
          ]
        }
      ]
    },
    {
      "cell_type": "code",
      "source": [
        "# Hacer un programa que diga el número total de personas que se han contagiado cuando pasen D días a partir de hoy, si el número de contagiados actuales es C. numero de contagiados se duplica cada dia\n",
        "\n",
        "def calcular_personas_contagiadas (D: int, C:int) -> int:\n",
        "  total_contagiados = C*(2)**D #formula basada en el crecimiento poblacional de bacterias, solo que aqui no se tiene en cuenta el euler sino la duplicacion de individuos contagiados\n",
        "  return total_contagiados\n",
        "\n",
        "if __name__ == \"__main__\":\n",
        "  C = int(input(\"Ingrese el número actual de contagiados \"))\n",
        "  D = int(input(\"Ingrese el número de días de contagio a partir de hoy \"))\n",
        "  personas_contagiadas = calcular_personas_contagiadas (D,C)\n",
        "  print (\"El número de personas contagiadas en \" +str(D)+ \" días es de \" +str(personas_contagiadas))\n"
      ],
      "metadata": {
        "colab": {
          "base_uri": "https://localhost:8080/"
        },
        "id": "uVfeAQqUZjuT",
        "outputId": "f8ae5c51-3f8f-4a94-fe52-f3ad9190bd18"
      },
      "execution_count": null,
      "outputs": [
        {
          "output_type": "stream",
          "name": "stdout",
          "text": [
            "Ingrese el número actual de contagiados 4\n",
            "Ingrese el número de días de contagio a partir de hoy 2\n",
            "El número de personas contagiadas en 2 días es de 16\n"
          ]
        }
      ]
    }
  ]
}